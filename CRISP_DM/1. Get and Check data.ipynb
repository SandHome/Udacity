{
 "cells": [
  {
   "cell_type": "markdown",
   "metadata": {},
   "source": [
    "# IMPORT"
   ]
  },
  {
   "cell_type": "code",
   "execution_count": null,
   "metadata": {},
   "outputs": [],
   "source": [
    "# import pandas lib as pd\n",
    "import pandas as pd\n",
    "import numpy as np\n",
    "import matplotlib.pyplot as plt\n",
    "pd.set_option('mode.chained_assignment', None)"
   ]
  },
  {
   "cell_type": "markdown",
   "metadata": {},
   "source": [
    "# GET DATA"
   ]
  },
  {
   "cell_type": "code",
   "execution_count": null,
   "metadata": {},
   "outputs": [],
   "source": [
    "# Get Meter List and daily data \n",
    "MeterList = pd.read_excel('../Data/19193111_MeterList.xls')\n",
    "DailyForwardEnergy = pd.read_excel('../Data/19193111_Daily_Forward_Energy.xls')\n",
    "DailyReverseEnergy = pd.read_excel('../Data/19193111_Daily_Reverse_Energy.xls')\n",
    "DailyVoltage = pd.read_excel('../Data/19193111_Daily_Voltage.xls')\n",
    "DailyCurrent = pd.read_excel('../Data/19193111_Daily_Current.xls')\n",
    "\n",
    "\n",
    "print('- DailyForwardEnergy: print 02 top row ----------------')\n",
    "print(DailyForwardEnergy.head(2))\n",
    "print('- DailyReverseEnergy: print 02 top row ----------------')\n",
    "print(DailyReverseEnergy.head(2))\n",
    "print('- DailyVoltage: print 02 top row ----------------')\n",
    "print(DailyVoltage.head(2))\n",
    "print('- DailyCurrent: print 02 top row ----------------')\n",
    "print(DailyCurrent.head(2))"
   ]
  },
  {
   "cell_type": "markdown",
   "metadata": {},
   "source": [
    "# CHECK METER LIST"
   ]
  },
  {
   "cell_type": "code",
   "execution_count": null,
   "metadata": {},
   "outputs": [],
   "source": [
    "# To check data. We must know how many active meter need to collect data\n",
    "print('- MeterList: print 02 top row ----------------')\n",
    "print(MeterList.head(2))\n",
    "# Get Total Meter\n",
    "TotalMeter = MeterList.shape[0]\n",
    "print('\\n- Total Meter: {total}'.format(total=TotalMeter))\n",
    "\n",
    "# Get Meter have status is Active\n",
    "ActiveMeterList = MeterList[(MeterList.Status == 'Running')]\n",
    "TotalActiveMeter = ActiveMeterList.shape[0]\n",
    "print('\\n- Total Active Meter : {totalActive}'.format(totalActive=TotalActiveMeter))\n",
    "\n",
    "# Get Meter Model : MM11-V1 is single phase meter, MM31/38 is Three phase meter\n",
    "MeterModel = ActiveMeterList.Meter_Model.drop_duplicates()\n",
    "print('\\n- Meter Model:\\n {first}'.format(first=MeterModel))\n",
    "SinglePhaseMeter = ActiveMeterList[(ActiveMeterList.Meter_Model == 'MM11-V1')]\n",
    "TotalSinglePhaseMeter = SinglePhaseMeter.shape[0]\n",
    "ThreePhaseMeter = ActiveMeterList[(ActiveMeterList.Meter_Model == 'MM31/38')]\n",
    "TotalThreePhaseMeter = ThreePhaseMeter.shape[0]\n",
    "\n",
    "print('\\n- Total Sing Meter : {first}; Total Three Phase Meter : {second}'.format(first=TotalSinglePhaseMeter,second=TotalThreePhaseMeter))\n"
   ]
  },
  {
   "cell_type": "markdown",
   "metadata": {},
   "source": [
    "# CHECK DAILY DATA\n",
    "With daily data, we need to check the data collect from meter enough or not, check the data is normal or not"
   ]
  },
  {
   "cell_type": "markdown",
   "metadata": {},
   "source": [
    "DEF function for Check Daily Data"
   ]
  },
  {
   "cell_type": "code",
   "execution_count": null,
   "metadata": {},
   "outputs": [],
   "source": [
    "def getDataRate(ActiveMeterList,DailyData,DataName):\n",
    "    # Success Rate (how many meter have this data in day per total active meter)\n",
    "    DailyData['Flag_Time_By_Day'] = DailyData.Data_Time.str.slice(0, 10)\n",
    "\n",
    "    # Join Voltage data with meter List by Meter_No\n",
    "    ActiveMeterListWithDailyData=ActiveMeterList.set_index('Meter_No').join(DailyData.set_index('Meter_No'))\n",
    "    # print('\\n- Print Top 02 row of Voltage data with meter List by Meter_No:\\n {first}'.format(first=ActiveMeterListWithVoltageData.head(1)))\n",
    "\n",
    "    # Get Group Data by Day\n",
    "    DataByDay = DailyData.Flag_Time_By_Day.drop_duplicates()\n",
    "    TotalDayCollectData = DataByDay.shape[0]\n",
    "    print('\\n- Total day collect {first} data:\\n {second}'.format(first=DataName,second=TotalDayCollectData))\n",
    "    \n",
    "    # Get Success Data by Day\n",
    "    Output= pd.DataFrame()\n",
    "    Output['Day'] = DataByDay.copy()\n",
    "    Success_Rate=[]\n",
    "    for item in Output['Day']:\n",
    "        TempData = ActiveMeterListWithDailyData[ActiveMeterListWithDailyData.Flag_Time_By_Day==item]\n",
    "        Success_Rate.append(round(TempData.shape[0]*100/ActiveMeterList.shape[0],2))\n",
    "        \n",
    "    Output['Success_Rate'] = Success_Rate\n",
    "    print('\\n- Top 5 Success rate of collect {first} data:\\n {second}'.format(first=DataName,second=Output.head(5)))\n",
    "    \n",
    "    # Show Chart of Success_Rate by Day\n",
    "    # create data\n",
    "    Output = Output.sort_values(by=['Day'])\n",
    "    x=Output['Day'].head(5)\n",
    "    y=Output['Success_Rate'].head(5)\n",
    "\n",
    "    # Change the style of plot\n",
    "    plt.figure(figsize=(18, 9))\n",
    "    plt.xticks(rotation = 90)\n",
    "    plt.style.use('seaborn-darkgrid')\n",
    "    \n",
    "    # Make the same graph\n",
    "    plt.fill_between( x, y, color=\"skyblue\", alpha=0.3)\n",
    "    plt.plot(x, y, color=\"skyblue\")\n",
    "    \n",
    "    # Add title and axis names\n",
    "    plt.title('Success rate of collect {first} data last 5 days'.format(first=DataName))\n",
    "    plt.xlabel('Day')\n",
    "    plt.ylabel('Success rate (%)')\n",
    "    \n",
    "    # Show graph\n",
    "    plt.show()\n",
    "\n",
    "    \n",
    "    return ActiveMeterListWithDailyData, Output\n"
   ]
  },
  {
   "cell_type": "markdown",
   "metadata": {},
   "source": [
    "## DAILY VOLTAGE DATA"
   ]
  },
  {
   "cell_type": "markdown",
   "metadata": {},
   "source": [
    "Success Rate"
   ]
  },
  {
   "cell_type": "code",
   "execution_count": null,
   "metadata": {},
   "outputs": [],
   "source": [
    "# Success Rate (how many meter have this data in day per total active meter)\n",
    "ActiveMeterListWithVoltageData, SuccessRateVoltage = getDataRate(ActiveMeterList,DailyVoltage,'Voltage')\n"
   ]
  },
  {
   "cell_type": "markdown",
   "metadata": {},
   "source": [
    "Check Unomal Data"
   ]
  },
  {
   "cell_type": "code",
   "execution_count": null,
   "metadata": {},
   "outputs": [],
   "source": [
    "# Voltage at Viet Nam normal from 176 V to 264 V. Check unormal data\n",
    "max = 264\n",
    "min = 176\n",
    "UnormalVoltageData = ActiveMeterListWithVoltageData[((ActiveMeterListWithVoltageData.Voltage_in_phase_L1>max)|\n",
    "                                                    (ActiveMeterListWithVoltageData.Voltage_in_phase_L1<min))|\n",
    "                                                     ((ActiveMeterListWithVoltageData.Voltage_in_phase_L2>max)|\n",
    "                                                    (ActiveMeterListWithVoltageData.Voltage_in_phase_L2<min))|\n",
    "                                                     ((ActiveMeterListWithVoltageData.Voltage_in_phase_L3>max)|\n",
    "                                                    (ActiveMeterListWithVoltageData.Voltage_in_phase_L3<min))]\n",
    "\n",
    "TotalUnormalVoltageData = UnormalVoltageData.shape[0]\n",
    "print('\\n- Unormal Voltage Data :\\n+ Total: {first} \\n+ Detail:\\n{second}'.format(first=TotalUnormalVoltageData,second=UnormalVoltageData))\n",
    "\n",
    "# Three Phase meter normal must have voltage value of all Phase. Check unormal data. Just check with meter can collect data\n",
    "\n",
    "VoltageDataThreePhaseMeter = ActiveMeterListWithVoltageData[ActiveMeterListWithVoltageData.Meter_Model=='MM31/38']\n",
    "if VoltageDataThreePhaseMeter.shape[0]>0:\n",
    "    VoltageDataThreePhaseMeter['CheckPhase1'] = VoltageDataThreePhaseMeter['Voltage_in_phase_L1'].isnull()\n",
    "    VoltageDataThreePhaseMeter['CheckPhase2'] = VoltageDataThreePhaseMeter['Voltage_in_phase_L2'].isnull()\n",
    "    VoltageDataThreePhaseMeter['CheckPhase3'] = VoltageDataThreePhaseMeter['Voltage_in_phase_L3'].isnull()\n",
    "\n",
    "    UnormalVoltageDataThreePhaseMeter = VoltageDataThreePhaseMeter[((VoltageDataThreePhaseMeter.CheckPhase1==True)|\n",
    "                                                                        (VoltageDataThreePhaseMeter.CheckPhase2==True)|\n",
    "                                                                        (VoltageDataThreePhaseMeter.CheckPhase3==True))&\n",
    "                                                                        ((VoltageDataThreePhaseMeter.CheckPhase1==False)|\n",
    "                                                                        (VoltageDataThreePhaseMeter.CheckPhase2==False)|\n",
    "                                                                        (VoltageDataThreePhaseMeter.CheckPhase3==False))]\n",
    "\n",
    "    TotalUnormalVoltageDataThreePhaseMeter = UnormalVoltageDataThreePhaseMeter.shape[0]\n",
    "    print('\\n- Unormal Voltage Data Three Phase Meter :\\n+ Total: {first} \\n+ Detail:\\n{second}'.format(first=TotalUnormalVoltageDataThreePhaseMeter,second=UnormalVoltageDataThreePhaseMeter))\n",
    "else:\n",
    "    print('\\n- Do not have Current Data of Three Phase Meter')  "
   ]
  },
  {
   "cell_type": "markdown",
   "metadata": {},
   "source": [
    "## DAILY CURRENT DATA"
   ]
  },
  {
   "cell_type": "markdown",
   "metadata": {},
   "source": [
    "Success Rate"
   ]
  },
  {
   "cell_type": "code",
   "execution_count": null,
   "metadata": {},
   "outputs": [],
   "source": [
    "# Success Rate (how many meter have this data in day per total active meter)\n",
    "ActiveMeterListWithCurrentData, SuccessRateCurrent = getDataRate(ActiveMeterList,DailyCurrent,'Current')"
   ]
  },
  {
   "cell_type": "markdown",
   "metadata": {},
   "source": [
    "Check Unomal Data"
   ]
  },
  {
   "cell_type": "code",
   "execution_count": null,
   "metadata": {},
   "outputs": [],
   "source": [
    "# Current range of single phase meter is 0 - 80A (Imax = 80A), Three phase meter is 0 - 100A (Imax = 100A). Meter can run normal if Current value < 120% Imax. Check Meter have unomal Current\n",
    "ImaxSinglePhaseMeter = 80\n",
    "ImaxThreePhaseMeter = 100\n",
    "\n",
    "# Check Current range of single phase meter\n",
    "CurrentDataSinglePhaseMeter = ActiveMeterListWithCurrentData[ActiveMeterListWithCurrentData.Meter_Model=='MM11-V1']\n",
    "\n",
    "if CurrentDataSinglePhaseMeter.shape[0]>0:\n",
    "    UnormalCurrentDataSinglePhaseMeter = CurrentDataSinglePhaseMeter[CurrentDataSinglePhaseMeter.Current_in_phase_L1>ImaxSinglePhaseMeter]\n",
    "\n",
    "    TotalUnormalCurrentDataSinglePhaseMeter = UnormalCurrentDataSinglePhaseMeter.shape[0]\n",
    "    print('\\n- Unormal Current Data Single Phase Meter :\\n+ Total: {first} \\n+ Detail:\\n{second}'.format(first=TotalUnormalCurrentDataSinglePhaseMeter,second=UnormalCurrentDataSinglePhaseMeter))\n",
    "else:\n",
    "    print('\\n- Do not have Current Data of Single Phase Meter')    \n",
    "# Check Current range of single phase meter\n",
    "\n",
    "CurrentDataThreePhaseMeter = ActiveMeterListWithCurrentData[ActiveMeterListWithCurrentData.Meter_Model=='MM31/38']\n",
    "if CurrentDataThreePhaseMeter.shape[0]>0:\n",
    "    UnormalCurrentDataThreePhaseMeter = CurrentDataThreePhaseMeter[(CurrentDataThreePhaseMeter.Current_in_phase_L1>ImaxThreePhaseMeter)|\n",
    "                                                                (CurrentDataThreePhaseMeter.Current_in_phase_L2>ImaxThreePhaseMeter)|\n",
    "                                                                (CurrentDataThreePhaseMeter.Current_in_phase_L3>ImaxThreePhaseMeter)]\n",
    "\n",
    "    TotalUnormalCurrentDataThreePhaseMeter = UnormalCurrentDataThreePhaseMeter.shape[0]\n",
    "    print('\\n- Unormal Current Data Three Phase Meter :\\n+ Total: {first} \\n+ Detail:\\n{second}'.format(first=TotalUnormalCurrentDataThreePhaseMeter,second=UnormalCurrentDataThreePhaseMeter))\n",
    "else:\n",
    "    print('\\n- Do not have Current Data of Three Phase Meter')    "
   ]
  },
  {
   "cell_type": "markdown",
   "metadata": {},
   "source": [
    "## DAILY FORWARD ENERGY DATA"
   ]
  },
  {
   "cell_type": "markdown",
   "metadata": {},
   "source": [
    "Success Rate"
   ]
  },
  {
   "cell_type": "code",
   "execution_count": null,
   "metadata": {},
   "outputs": [],
   "source": [
    "# Success Rate (how many meter have this data in day per total active meter)\n",
    "df, SuccessRateForwardEnergyData = getDataRate(ActiveMeterList,DailyForwardEnergy,'Forward Energy')"
   ]
  },
  {
   "cell_type": "markdown",
   "metadata": {},
   "source": [
    "Check Unomal Data"
   ]
  },
  {
   "cell_type": "code",
   "execution_count": null,
   "metadata": {},
   "outputs": [],
   "source": [
    "# Normal Data of Enegry is the value >=0. Check that\n",
    "UnormalEnegryDataCheckValue = df[(df.Active_energy_total < 0) |\n",
    "                                 (df.Active_energy_tariff1 < 0) | \n",
    "                                 (df.Active_energy_tariff2 < 0) | \n",
    "                                 (df.Active_energy_tariff3 < 0) | \n",
    "                                 (df.Active_energy_tariff4 < 0) |\n",
    "                                 (df.Reactive_energy_total < 0) |\n",
    "                                 (df.Reactive_energy_tariff1 < 0) | \n",
    "                                 (df.Reactive_energy_tariff2 < 0) | \n",
    "                                 (df.Reactive_energy_tariff3 < 0) | \n",
    "                                 (df.Reactive_energy_tariff4 < 0)]\n",
    "\n",
    "TotalUnormalEnegryDataCheckValue = UnormalEnegryDataCheckValue.shape[0]\n",
    "print('\\n- Unormal Enegery (Enegry value <0) :\\n+ Total: {first} \\n+ Detail:\\n{second}'.format(first=TotalUnormalEnegryDataCheckValue,second=UnormalEnegryDataCheckValue))\n",
    "\n",
    "\n",
    "# With multi tariff meter TotalEnegry = (99% - 101%) of (EnegryTariff1 + EnegryTariff2 + EnegryTariff3 + EnegryTariff4). Check that\n",
    "minvalue = 0.99\n",
    "maxvalue = 1.01\n",
    "UnormalEnegryDataCheckTotalAndTariffValue = df[((df.Active_energy_total < (df.Active_energy_tariff1 + df.Active_energy_tariff2 + df.Active_energy_tariff3 + df.Active_energy_tariff4)*minvalue)|\n",
    "                                               (df.Active_energy_total > (df.Active_energy_tariff1 + df.Active_energy_tariff2 + df.Active_energy_tariff3 + df.Active_energy_tariff4)*maxvalue))|\n",
    "                                               ((df.Reactive_energy_total < (df.Reactive_energy_tariff1 + df.Reactive_energy_tariff2 + df.Reactive_energy_tariff3 + df.Reactive_energy_tariff4)*minvalue)|\n",
    "                                               (df.Reactive_energy_total > (df.Reactive_energy_tariff1 + df.Reactive_energy_tariff2 + df.Reactive_energy_tariff3 + df.Reactive_energy_tariff4)*maxvalue))]\n",
    "\n",
    "TotalUnormalEnegryDataCheckTotalAndTariffValue = UnormalEnegryDataCheckTotalAndTariffValue.shape[0]\n",
    "print('\\n- With multi tariff meter, Unormal Enegery (TotalEnegry not same with (EnegryTariff1 + EnegryTariff2 + EnegryTariff3 + EnegryTariff4)) :\\n+ Total: {first} \\n+ Detail:\\n{second}'.format(first=TotalUnormalEnegryDataCheckTotalAndTariffValue,second=UnormalEnegryDataCheckTotalAndTariffValue))"
   ]
  },
  {
   "cell_type": "markdown",
   "metadata": {},
   "source": [
    "## DAILY FORWARD ENERGY DATA"
   ]
  },
  {
   "cell_type": "markdown",
   "metadata": {},
   "source": [
    "Success Rate"
   ]
  },
  {
   "cell_type": "code",
   "execution_count": null,
   "metadata": {},
   "outputs": [],
   "source": [
    "# Success Rate (how many meter have this data in day per total active meter)\n",
    "df, SuccessRateReverseEnergyData = getDataRate(ActiveMeterList,DailyReverseEnergy,'Reverse Energy')"
   ]
  },
  {
   "cell_type": "markdown",
   "metadata": {},
   "source": [
    "Check Unomal Data"
   ]
  },
  {
   "cell_type": "code",
   "execution_count": null,
   "metadata": {},
   "outputs": [],
   "source": [
    "# Normal Data of Enegry is the value >=0. Check that\n",
    "UnormalEnegryDataCheckValue = df[(df.Active_energy_total < 0) |\n",
    "                                 (df.Active_energy_tariff1 < 0) | \n",
    "                                 (df.Active_energy_tariff2 < 0) | \n",
    "                                 (df.Active_energy_tariff3 < 0) | \n",
    "                                 (df.Active_energy_tariff4 < 0) |\n",
    "                                 (df.Reactive_energy_total < 0) |\n",
    "                                 (df.Reactive_energy_tariff1 < 0) | \n",
    "                                 (df.Reactive_energy_tariff2 < 0) | \n",
    "                                 (df.Reactive_energy_tariff3 < 0) | \n",
    "                                 (df.Reactive_energy_tariff4 < 0)]\n",
    "\n",
    "TotalUnormalEnegryDataCheckValue = UnormalEnegryDataCheckValue.shape[0]\n",
    "print('\\n- Unormal Enegery (Enegry value <0) :\\n+ Total: {first} \\n+ Detail:\\n{second}'.format(first=TotalUnormalEnegryDataCheckValue,second=UnormalEnegryDataCheckValue))\n",
    "\n",
    "\n",
    "# With multi tariff meter TotalEnegry = (99% - 101%) of (EnegryTariff1 + EnegryTariff2 + EnegryTariff3 + EnegryTariff4). Check that\n",
    "minvalue = 0.99\n",
    "maxvalue = 1.01\n",
    "UnormalEnegryDataCheckTotalAndTariffValue = df[((df.Active_energy_total < (df.Active_energy_tariff1 + df.Active_energy_tariff2 + df.Active_energy_tariff3 + df.Active_energy_tariff4)*minvalue)|\n",
    "                                               (df.Active_energy_total > (df.Active_energy_tariff1 + df.Active_energy_tariff2 + df.Active_energy_tariff3 + df.Active_energy_tariff4)*maxvalue))|\n",
    "                                               ((df.Reactive_energy_total < (df.Reactive_energy_tariff1 + df.Reactive_energy_tariff2 + df.Reactive_energy_tariff3 + df.Reactive_energy_tariff4)*minvalue)|\n",
    "                                               (df.Reactive_energy_total > (df.Reactive_energy_tariff1 + df.Reactive_energy_tariff2 + df.Reactive_energy_tariff3 + df.Reactive_energy_tariff4)*maxvalue))]\n",
    "\n",
    "TotalUnormalEnegryDataCheckTotalAndTariffValue = UnormalEnegryDataCheckTotalAndTariffValue.shape[0]\n",
    "print('\\n- With multi tariff meter, Unormal Enegery (TotalEnegry not same with (EnegryTariff1 + EnegryTariff2 + EnegryTariff3 + EnegryTariff4)) :\\n+ Total: {first} \\n+ Detail:\\n{second}'.format(first=TotalUnormalEnegryDataCheckTotalAndTariffValue,second=UnormalEnegryDataCheckTotalAndTariffValue))\n"
   ]
  }
 ],
 "metadata": {
  "kernelspec": {
   "display_name": "Python 3.9.7 64-bit",
   "language": "python",
   "name": "python3"
  },
  "language_info": {
   "codemirror_mode": {
    "name": "ipython",
    "version": 3
   },
   "file_extension": ".py",
   "mimetype": "text/x-python",
   "name": "python",
   "nbconvert_exporter": "python",
   "pygments_lexer": "ipython3",
   "version": "3.9.7"
  },
  "orig_nbformat": 4,
  "vscode": {
   "interpreter": {
    "hash": "425fffdd81f4c8a8a93d502d98a00d3c91ddacf9eb641baeec30767a7bb560f4"
   }
  }
 },
 "nbformat": 4,
 "nbformat_minor": 2
}
