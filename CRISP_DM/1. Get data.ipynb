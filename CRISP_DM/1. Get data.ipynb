{
 "cells": [
  {
   "cell_type": "markdown",
   "metadata": {},
   "source": [
    "# IMPORT"
   ]
  },
  {
   "cell_type": "code",
   "execution_count": 670,
   "metadata": {},
   "outputs": [],
   "source": [
    "# import pandas lib as pd\n",
    "import pandas as pd\n",
    "import numpy as np\n",
    "import matplotlib.pyplot as plt"
   ]
  },
  {
   "cell_type": "markdown",
   "metadata": {},
   "source": [
    "# GET DATA"
   ]
  },
  {
   "cell_type": "code",
   "execution_count": 671,
   "metadata": {},
   "outputs": [
    {
     "name": "stdout",
     "output_type": "stream",
     "text": [
      "- DailyForwardEnergy: print 02 top row ----------------\n",
      "   Meter_No            Data_Time  Active_energy+_total  \\\n",
      "0  19205403  2022-09-18 00:00:00               9772.50   \n",
      "1  19205403  2022-09-17 00:00:00               9758.77   \n",
      "\n",
      "   Active_energy+_tariff1  Active_energy+_tariff2  Active_energy+_tariff3  \\\n",
      "0                     NaN                     NaN                     NaN   \n",
      "1                     NaN                     NaN                     NaN   \n",
      "\n",
      "   Active_energy+_tariff4  Reactive_energy+_total  Reactive_energy+_tariff1  \\\n",
      "0                     NaN                     NaN                       NaN   \n",
      "1                     NaN                     NaN                       NaN   \n",
      "\n",
      "   Reactive_energy+_tariff2  Reactive_energy+_tariff3  \\\n",
      "0                       NaN                       NaN   \n",
      "1                       NaN                       NaN   \n",
      "\n",
      "   Reactive_energy+_tariff4  \n",
      "0                       NaN  \n",
      "1                       NaN  \n",
      "- DailyReverseEnergy: print 02 top row ----------------\n",
      "   Meter_No            Data_Time  Active_energy-_total  \\\n",
      "0  19205403  2022-09-18 00:00:00                   0.0   \n",
      "1  19205403  2022-09-17 00:00:00                   0.0   \n",
      "\n",
      "   Active_energy-_tariff1  Active_energy-_tariff2  Active_energy-_tariff3  \\\n",
      "0                     NaN                     NaN                     NaN   \n",
      "1                     NaN                     NaN                     NaN   \n",
      "\n",
      "   Active_energy-_tariff4  Reactive_energy-_total  Reactive_energy-_tariff1  \\\n",
      "0                     NaN                     NaN                       NaN   \n",
      "1                     NaN                     NaN                       NaN   \n",
      "\n",
      "   Reactive_energy-_tariff2  Reactive_energy-_tariff3  \\\n",
      "0                       NaN                       NaN   \n",
      "1                       NaN                       NaN   \n",
      "\n",
      "   Reactive_energy-_tariff4  \n",
      "0                       NaN  \n",
      "1                       NaN  \n",
      "- DailyVoltage: print 02 top row ----------------\n",
      "   Meter_No  Voltage_in_phase_L1  Voltage_in_phase_L2  Voltage_in_phase_L3  \\\n",
      "0  19205403                225.0                  NaN                  NaN   \n",
      "1  19205403                223.0                  NaN                  NaN   \n",
      "\n",
      "             Data_Time  \n",
      "0  2022-09-18 00:00:00  \n",
      "1  2022-09-17 00:00:00  \n",
      "- DailyCurrent: print 02 top row ----------------\n",
      "   Meter_No            Data_Time  Current_in_phase_L1  Current_in_phase_L2  \\\n",
      "0  19205403  2022-09-18 00:00:00                 4.88                  NaN   \n",
      "1  19205403  2022-09-17 00:00:00                 4.87                  NaN   \n",
      "\n",
      "   Current_in_phase_L3  \n",
      "0                  NaN  \n",
      "1                  NaN  \n"
     ]
    }
   ],
   "source": [
    "# Get Meter List and daily data \n",
    "MeterList = pd.read_excel('../Data/19193111_MeterList.xls')\n",
    "DailyForwardEnergy = pd.read_excel('../Data/19193111_Daily_Forward_Energy.xls')\n",
    "DailyReverseEnergy = pd.read_excel('../Data/19193111_Daily_Reverse_Energy.xls')\n",
    "DailyVoltage = pd.read_excel('../Data/19193111_Daily_Voltage.xls')\n",
    "DailyCurrent = pd.read_excel('../Data/19193111_Daily_Current.xls')\n",
    "\n",
    "\n",
    "print('- DailyForwardEnergy: print 02 top row ----------------')\n",
    "print(DailyForwardEnergy.head(2))\n",
    "print('- DailyReverseEnergy: print 02 top row ----------------')\n",
    "print(DailyReverseEnergy.head(2))\n",
    "print('- DailyVoltage: print 02 top row ----------------')\n",
    "print(DailyVoltage.head(2))\n",
    "print('- DailyCurrent: print 02 top row ----------------')\n",
    "print(DailyCurrent.head(2))"
   ]
  },
  {
   "cell_type": "markdown",
   "metadata": {},
   "source": [
    "# CHECK METER LIST"
   ]
  },
  {
   "cell_type": "code",
   "execution_count": 672,
   "metadata": {},
   "outputs": [
    {
     "name": "stdout",
     "output_type": "stream",
     "text": [
      "- MeterList: print 02 top row ----------------\n",
      "   Meter_No   Status Meter_Model Customer_No         Customer_Name\n",
      "0  19205924  Running     MM11-V1     T04.001  Nguyễn Văn Trình MĐK\n",
      "1  19205923  Running     MM11-V1     T04.002     Nguyễn Văn Đệ MĐK\n",
      "\n",
      "- Total Meter: 151\n",
      "\n",
      "- Total Active Meter : 151\n",
      "\n",
      "- Meter Model:\n",
      " 0      MM11-V1\n",
      "133    MM31/38\n",
      "Name: Meter_Model, dtype: object\n",
      "\n",
      "- Total Sing Meter : 143; Total Three Phase Meter : 8\n"
     ]
    }
   ],
   "source": [
    "# To check data. We must know how many active meter need to collect data\n",
    "print('- MeterList: print 02 top row ----------------')\n",
    "print(MeterList.head(2))\n",
    "# Get Total Meter\n",
    "TotalMeter = MeterList.shape[0]\n",
    "print('\\n- Total Meter: {total}'.format(total=TotalMeter))\n",
    "\n",
    "# Get Meter have status is Active\n",
    "ActiveMeterList = MeterList[(MeterList.Status == 'Running')]\n",
    "TotalActiveMeter = ActiveMeterList.shape[0]\n",
    "print('\\n- Total Active Meter : {totalActive}'.format(totalActive=TotalActiveMeter))\n",
    "\n",
    "# Get Meter Model : MM11-V1 is single phase meter, MM31/38 is Three phase meter\n",
    "MeterModel = ActiveMeterList.Meter_Model.drop_duplicates()\n",
    "print('\\n- Meter Model:\\n {first}'.format(first=MeterModel))\n",
    "SinglePhaseMeter = ActiveMeterList[(ActiveMeterList.Meter_Model == 'MM11-V1')]\n",
    "TotalSinglePhaseMeter = SinglePhaseMeter.shape[0]\n",
    "ThreePhaseMeter = ActiveMeterList[(ActiveMeterList.Meter_Model == 'MM31/38')]\n",
    "TotalThreePhaseMeter = ThreePhaseMeter.shape[0]\n",
    "\n",
    "print('\\n- Total Sing Meter : {first}; Total Three Phase Meter : {second}'.format(first=TotalSinglePhaseMeter,second=TotalThreePhaseMeter))\n"
   ]
  },
  {
   "cell_type": "markdown",
   "metadata": {},
   "source": [
    "# CHECK DAILY DATA\n",
    "With daily data, we need to check the data collect from meter enough or not, check the data is normal or not"
   ]
  },
  {
   "cell_type": "markdown",
   "metadata": {},
   "source": [
    "DEF function for Check Daily Data"
   ]
  },
  {
   "cell_type": "code",
   "execution_count": 673,
   "metadata": {},
   "outputs": [],
   "source": [
    "def getDataRate(ActiveMeterList,DailyData,DataName):\n",
    "    # Success Rate (how many meter have this data in day per total active meter)\n",
    "    DailyData['Flag_Time_By_Day'] = DailyData.Data_Time.str.slice(0, 10)\n",
    "\n",
    "    # Join Voltage data with meter List by Meter_No\n",
    "    ActiveMeterListWithDailyData=ActiveMeterList.set_index('Meter_No').join(DailyData.set_index('Meter_No'))\n",
    "    # print('\\n- Print Top 02 row of Voltage data with meter List by Meter_No:\\n {first}'.format(first=ActiveMeterListWithVoltageData.head(1)))\n",
    "\n",
    "    # Get Group Data by Day\n",
    "    DataByDay = DailyData.Flag_Time_By_Day.drop_duplicates()\n",
    "    TotalDayCollectData = DataByDay.shape[0]\n",
    "    print('\\n- Total day collect {first} data:\\n {second}'.format(first=DataName,second=TotalDayCollectData))\n",
    "    \n",
    "    # Get Success Data by Day\n",
    "    Output= pd.DataFrame()\n",
    "    Output['Day'] = DataByDay.copy()\n",
    "    Success_Rate=[]\n",
    "    for item in Output['Day']:\n",
    "        TempData = ActiveMeterListWithDailyData[ActiveMeterListWithDailyData.Flag_Time_By_Day==item]\n",
    "        Success_Rate.append(round(TempData.shape[0]*100/ActiveMeterList.shape[0],2))\n",
    "        \n",
    "    Output['Success_Rate'] = Success_Rate\n",
    "    print('\\n- Success rate of collect {first} data:\\n {second}'.format(first=DataName,second=Output))\n",
    "    \n",
    "    # Show Chart of Success_Rate by Day\n",
    "    # create data\n",
    "    Output = Output.sort_values(by=['Day'])\n",
    "    x=Output['Day']\n",
    "    y=Output['Success_Rate'] \n",
    "\n",
    "    # Change the style of plot\n",
    "    plt.figure(figsize=(18, 9))\n",
    "    plt.xticks(rotation = 90)\n",
    "    plt.style.use('seaborn-darkgrid')\n",
    "    \n",
    "    # Make the same graph\n",
    "    plt.fill_between( x, y, color=\"skyblue\", alpha=0.3)\n",
    "    plt.plot(x, y, color=\"skyblue\")\n",
    "    \n",
    "    # Add title and axis names\n",
    "    plt.title('Success rate of collect {first} data'.format(first=DataName))\n",
    "    plt.xlabel('Day')\n",
    "    plt.ylabel('Success rate (%)')\n",
    "    \n",
    "    # Show graph\n",
    "    plt.show()\n",
    "\n",
    "    \n",
    "    return ActiveMeterListWithDailyData, Output\n",
    "    \n"
   ]
  },
  {
   "cell_type": "markdown",
   "metadata": {},
   "source": [
    "## DAILY VOLTAGE DATA"
   ]
  },
  {
   "cell_type": "markdown",
   "metadata": {},
   "source": [
    "Success Rate"
   ]
  },
  {
   "cell_type": "code",
   "execution_count": 674,
   "metadata": {},
   "outputs": [
    {
     "name": "stdout",
     "output_type": "stream",
     "text": [
      "\n",
      "- Total day collect Voltage data:\n",
      " 141\n",
      "\n",
      "- Success rate of collect Voltage data:\n",
      "             Day  Success_Rate\n",
      "0    2022-09-18         88.08\n",
      "1    2022-09-17         88.08\n",
      "2    2022-09-16         88.08\n",
      "3    2022-09-15         88.08\n",
      "4    2022-09-14         88.08\n",
      "..          ...           ...\n",
      "136  2022-05-05         88.08\n",
      "137  2022-05-04         88.08\n",
      "138  2022-05-03         88.08\n",
      "139  2022-05-02         88.08\n",
      "140  2022-05-01         88.08\n",
      "\n",
      "[141 rows x 2 columns]\n"
     ]
    },
    {
     "data": {
      "image/png": "[encoded data removed]",
      "text/plain": [
       "<Figure size 1296x648 with 1 Axes>"
      ]
     },
     "metadata": {},
     "output_type": "display_data"
    }
   ],
   "source": [
    "# Success Rate (how many meter have this data in day per total active meter)\n",
    "ActiveMeterListWithVoltageData, SuccessRateVoltage = getDataRate(ActiveMeterList,DailyVoltage,'Voltage')\n"
   ]
  },
  {
   "cell_type": "markdown",
   "metadata": {},
   "source": [
    "Check Unomal Data"
   ]
  },
  {
   "cell_type": "code",
   "execution_count": 675,
   "metadata": {},
   "outputs": [
    {
     "name": "stdout",
     "output_type": "stream",
     "text": [
      "\n",
      "- Unormal Voltage Data :\n",
      "+ Total: 3 \n",
      "+ Detail:\n",
      "           Status Meter_Model Customer_No           Customer_Name  \\\n",
      "Meter_No                                                            \n",
      "19205403  Running     MM11-V1     T04.144           Đỗ Quốc Triệu   \n",
      "19205409  Running     MM11-V1     T04.134              Đỗ Sào Nam   \n",
      "19362985  Running     MM31/38     T04.014  Quách Thị Hằng 2 3FMĐK   \n",
      "\n",
      "          Voltage_in_phase_L1  Voltage_in_phase_L2  Voltage_in_phase_L3  \\\n",
      "Meter_No                                                                  \n",
      "19205403                170.0                  NaN                  NaN   \n",
      "19205409                272.0                  NaN                  NaN   \n",
      "19362985                170.0                170.0                170.0   \n",
      "\n",
      "                    Data_Time Flag_Time_By_Day  \n",
      "Meter_No                                        \n",
      "19205403  2022-09-07 00:00:00       2022-09-07  \n",
      "19205409  2022-08-19 00:00:00       2022-08-19  \n",
      "19362985  2022-09-07 00:00:00       2022-09-07  \n",
      "\n",
      "- Unormal Voltage Data Three Phase Meter :\n",
      "+ Total: 4 \n",
      "+ Detail:\n",
      "           Status Meter_Model Customer_No           Customer_Name  \\\n",
      "Meter_No                                                            \n",
      "19362985  Running     MM31/38     T04.014  Quách Thị Hằng 2 3FMĐK   \n",
      "19362985  Running     MM31/38     T04.014  Quách Thị Hằng 2 3FMĐK   \n",
      "19362985  Running     MM31/38     T04.014  Quách Thị Hằng 2 3FMĐK   \n",
      "19362985  Running     MM31/38     T04.014  Quách Thị Hằng 2 3FMĐK   \n",
      "\n",
      "          Voltage_in_phase_L1  Voltage_in_phase_L2  Voltage_in_phase_L3  \\\n",
      "Meter_No                                                                  \n",
      "19362985                226.0                  NaN                226.0   \n",
      "19362985                222.0                222.0                  NaN   \n",
      "19362985                198.0                  NaN                  NaN   \n",
      "19362985                  NaN                  NaN                197.0   \n",
      "\n",
      "                    Data_Time Flag_Time_By_Day  CheckPhase1  CheckPhase2  \\\n",
      "Meter_No                                                                   \n",
      "19362985  2022-09-12 00:00:00       2022-09-12        False         True   \n",
      "19362985  2022-09-02 00:00:00       2022-09-02        False        False   \n",
      "19362985  2022-08-25 00:00:00       2022-08-25        False         True   \n",
      "19362985  2022-08-20 00:00:00       2022-08-20         True         True   \n",
      "\n",
      "          CheckPhase3  \n",
      "Meter_No               \n",
      "19362985        False  \n",
      "19362985         True  \n",
      "19362985         True  \n",
      "19362985        False  \n"
     ]
    },
    {
     "name": "stderr",
     "output_type": "stream",
     "text": [
      "C:\\Users\\PhamB\\AppData\\Local\\Temp\\ipykernel_21472\\2751725692.py:18: SettingWithCopyWarning: \n",
      "A value is trying to be set on a copy of a slice from a DataFrame.\n",
      "Try using .loc[row_indexer,col_indexer] = value instead\n",
      "\n",
      "See the caveats in the documentation: https://pandas.pydata.org/pandas-docs/stable/user_guide/indexing.html#returning-a-view-versus-a-copy\n",
      "  VoltageDataThreePhaseMeter['CheckPhase1'] = VoltageDataThreePhaseMeter['Voltage_in_phase_L1'].isnull()\n",
      "C:\\Users\\PhamB\\AppData\\Local\\Temp\\ipykernel_21472\\2751725692.py:19: SettingWithCopyWarning: \n",
      "A value is trying to be set on a copy of a slice from a DataFrame.\n",
      "Try using .loc[row_indexer,col_indexer] = value instead\n",
      "\n",
      "See the caveats in the documentation: https://pandas.pydata.org/pandas-docs/stable/user_guide/indexing.html#returning-a-view-versus-a-copy\n",
      "  VoltageDataThreePhaseMeter['CheckPhase2'] = VoltageDataThreePhaseMeter['Voltage_in_phase_L2'].isnull()\n",
      "C:\\Users\\PhamB\\AppData\\Local\\Temp\\ipykernel_21472\\2751725692.py:20: SettingWithCopyWarning: \n",
      "A value is trying to be set on a copy of a slice from a DataFrame.\n",
      "Try using .loc[row_indexer,col_indexer] = value instead\n",
      "\n",
      "See the caveats in the documentation: https://pandas.pydata.org/pandas-docs/stable/user_guide/indexing.html#returning-a-view-versus-a-copy\n",
      "  VoltageDataThreePhaseMeter['CheckPhase3'] = VoltageDataThreePhaseMeter['Voltage_in_phase_L3'].isnull()\n"
     ]
    }
   ],
   "source": [
    "# Voltage at Viet Nam normal from 176 V to 264 V. Check unormal data\n",
    "max = 264\n",
    "min = 176\n",
    "UnormalVoltageData = ActiveMeterListWithVoltageData[((ActiveMeterListWithVoltageData.Voltage_in_phase_L1>max)|\n",
    "                                                    (ActiveMeterListWithVoltageData.Voltage_in_phase_L1<min))|\n",
    "                                                     ((ActiveMeterListWithVoltageData.Voltage_in_phase_L2>max)|\n",
    "                                                    (ActiveMeterListWithVoltageData.Voltage_in_phase_L2<min))|\n",
    "                                                     ((ActiveMeterListWithVoltageData.Voltage_in_phase_L3>max)|\n",
    "                                                    (ActiveMeterListWithVoltageData.Voltage_in_phase_L3<min))]\n",
    "\n",
    "TotalUnormalVoltageData = UnormalVoltageData.shape[0]\n",
    "print('\\n- Unormal Voltage Data :\\n+ Total: {first} \\n+ Detail:\\n{second}'.format(first=TotalUnormalVoltageData,second=UnormalVoltageData))\n",
    "\n",
    "# Three Phase meter normal must have voltage value of all Phase. Check unormal data. Just check with meter can collect data\n",
    "\n",
    "VoltageDataThreePhaseMeter = ActiveMeterListWithVoltageData[ActiveMeterListWithVoltageData.Meter_Model=='MM31/38']\n",
    "if VoltageDataThreePhaseMeter.shape[0]>0:\n",
    "    VoltageDataThreePhaseMeter['CheckPhase1'] = VoltageDataThreePhaseMeter['Voltage_in_phase_L1'].isnull()\n",
    "    VoltageDataThreePhaseMeter['CheckPhase2'] = VoltageDataThreePhaseMeter['Voltage_in_phase_L2'].isnull()\n",
    "    VoltageDataThreePhaseMeter['CheckPhase3'] = VoltageDataThreePhaseMeter['Voltage_in_phase_L3'].isnull()\n",
    "\n",
    "    UnormalVoltageDataThreePhaseMeter = VoltageDataThreePhaseMeter[((VoltageDataThreePhaseMeter.CheckPhase1==True)|\n",
    "                                                                        (VoltageDataThreePhaseMeter.CheckPhase2==True)|\n",
    "                                                                        (VoltageDataThreePhaseMeter.CheckPhase3==True))&\n",
    "                                                                        ((VoltageDataThreePhaseMeter.CheckPhase1==False)|\n",
    "                                                                        (VoltageDataThreePhaseMeter.CheckPhase2==False)|\n",
    "                                                                        (VoltageDataThreePhaseMeter.CheckPhase3==False))]\n",
    "\n",
    "    TotalUnormalVoltageDataThreePhaseMeter = UnormalVoltageDataThreePhaseMeter.shape[0]\n",
    "    print('\\n- Unormal Voltage Data Three Phase Meter :\\n+ Total: {first} \\n+ Detail:\\n{second}'.format(first=TotalUnormalVoltageDataThreePhaseMeter,second=UnormalVoltageDataThreePhaseMeter))\n",
    "else:\n",
    "    print('\\n- Do not have Current Data of Three Phase Meter')  "
   ]
  },
  {
   "cell_type": "markdown",
   "metadata": {},
   "source": [
    "## DAILY CURRENT DATA"
   ]
  },
  {
   "cell_type": "markdown",
   "metadata": {},
   "source": [
    "Success Rate"
   ]
  },
  {
   "cell_type": "code",
   "execution_count": 676,
   "metadata": {},
   "outputs": [
    {
     "name": "stdout",
     "output_type": "stream",
     "text": [
      "\n",
      "- Total day collect Current data:\n",
      " 141\n",
      "\n",
      "- Success rate of collect Current data:\n",
      "             Day  Success_Rate\n",
      "0    2022-09-18         87.42\n",
      "1    2022-09-17         87.42\n",
      "2    2022-09-16         87.42\n",
      "3    2022-09-15         87.42\n",
      "4    2022-09-14         87.42\n",
      "..          ...           ...\n",
      "136  2022-05-05         87.42\n",
      "137  2022-05-04         87.42\n",
      "138  2022-05-03         87.42\n",
      "139  2022-05-02         87.42\n",
      "140  2022-05-01         87.42\n",
      "\n",
      "[141 rows x 2 columns]\n"
     ]
    },
    {
     "data": {
      "image/png": "[encoded data removed]",
      "text/plain": [
       "<Figure size 1296x648 with 1 Axes>"
      ]
     },
     "metadata": {},
     "output_type": "display_data"
    }
   ],
   "source": [
    "# Success Rate (how many meter have this data in day per total active meter)\n",
    "ActiveMeterListWithCurrentData, SuccessRateCurrent = getDataRate(ActiveMeterList,DailyCurrent,'Current')"
   ]
  },
  {
   "cell_type": "markdown",
   "metadata": {},
   "source": [
    "Check Unomal Data"
   ]
  },
  {
   "cell_type": "code",
   "execution_count": 677,
   "metadata": {},
   "outputs": [
    {
     "name": "stdout",
     "output_type": "stream",
     "text": [
      "\n",
      "- Unormal Current Data Single Phase Meter :\n",
      "+ Total: 0 \n",
      "+ Detail:\n",
      "Empty DataFrame\n",
      "Columns: [Status, Meter_Model, Customer_No, Customer_Name, Data_Time, Current_in_phase_L1, Current_in_phase_L2, Current_in_phase_L3, Flag_Time_By_Day]\n",
      "Index: []\n",
      "\n",
      "- Unormal Current Data Three Phase Meter :\n",
      "+ Total: 0 \n",
      "+ Detail:\n",
      "Empty DataFrame\n",
      "Columns: [Status, Meter_Model, Customer_No, Customer_Name, Data_Time, Current_in_phase_L1, Current_in_phase_L2, Current_in_phase_L3, Flag_Time_By_Day]\n",
      "Index: []\n"
     ]
    }
   ],
   "source": [
    "# Current range of single phase meter is 0 - 80A (Imax = 80A), Three phase meter is 0 - 100A (Imax = 100A). Meter can run normal if Current value < 120% Imax. Check Meter have unomal Current\n",
    "ImaxSinglePhaseMeter = 80\n",
    "ImaxThreePhaseMeter = 100\n",
    "\n",
    "# Check Current range of single phase meter\n",
    "CurrentDataSinglePhaseMeter = ActiveMeterListWithCurrentData[ActiveMeterListWithCurrentData.Meter_Model=='MM11-V1']\n",
    "\n",
    "if CurrentDataSinglePhaseMeter.shape[0]>0:\n",
    "    UnormalCurrentDataSinglePhaseMeter = CurrentDataSinglePhaseMeter[CurrentDataSinglePhaseMeter.Current_in_phase_L1>ImaxSinglePhaseMeter]\n",
    "\n",
    "    TotalUnormalCurrentDataSinglePhaseMeter = UnormalCurrentDataSinglePhaseMeter.shape[0]\n",
    "    print('\\n- Unormal Current Data Single Phase Meter :\\n+ Total: {first} \\n+ Detail:\\n{second}'.format(first=TotalUnormalCurrentDataSinglePhaseMeter,second=UnormalCurrentDataSinglePhaseMeter))\n",
    "else:\n",
    "    print('\\n- Do not have Current Data of Single Phase Meter')    \n",
    "# Check Current range of single phase meter\n",
    "\n",
    "CurrentDataThreePhaseMeter = ActiveMeterListWithCurrentData[ActiveMeterListWithCurrentData.Meter_Model=='MM31/38']\n",
    "if CurrentDataThreePhaseMeter.shape[0]>0:\n",
    "    UnormalCurrentDataThreePhaseMeter = CurrentDataThreePhaseMeter[(CurrentDataThreePhaseMeter.Current_in_phase_L1>ImaxThreePhaseMeter)|\n",
    "                                                                (CurrentDataThreePhaseMeter.Current_in_phase_L2>ImaxThreePhaseMeter)|\n",
    "                                                                (CurrentDataThreePhaseMeter.Current_in_phase_L3>ImaxThreePhaseMeter)]\n",
    "\n",
    "    TotalUnormalCurrentDataThreePhaseMeter = UnormalCurrentDataThreePhaseMeter.shape[0]\n",
    "    print('\\n- Unormal Current Data Three Phase Meter :\\n+ Total: {first} \\n+ Detail:\\n{second}'.format(first=TotalUnormalCurrentDataThreePhaseMeter,second=UnormalCurrentDataThreePhaseMeter))\n",
    "else:\n",
    "    print('\\n- Do not have Current Data of Three Phase Meter')    "
   ]
  },
  {
   "cell_type": "markdown",
   "metadata": {},
   "source": [
    "## DAILY FORWARD ENERGY DATA"
   ]
  },
  {
   "cell_type": "markdown",
   "metadata": {},
   "source": [
    "Success Rate"
   ]
  },
  {
   "cell_type": "code",
   "execution_count": 678,
   "metadata": {},
   "outputs": [
    {
     "name": "stdout",
     "output_type": "stream",
     "text": [
      "\n",
      "- Total day collect Forward Energy data:\n",
      " 141\n",
      "\n",
      "- Success rate of collect Forward Energy data:\n",
      "             Day  Success_Rate\n",
      "0    2022-09-18         87.42\n",
      "1    2022-09-17         87.42\n",
      "2    2022-09-16         87.42\n",
      "3    2022-09-15         87.42\n",
      "4    2022-09-14         87.42\n",
      "..          ...           ...\n",
      "136  2022-05-05         87.42\n",
      "137  2022-05-04         87.42\n",
      "138  2022-05-03         87.42\n",
      "139  2022-05-02         87.42\n",
      "140  2022-05-01         87.42\n",
      "\n",
      "[141 rows x 2 columns]\n"
     ]
    },
    {
     "data": {
      "image/png": "[encoded data removed]",
      "text/plain": [
       "<Figure size 1296x648 with 1 Axes>"
      ]
     },
     "metadata": {},
     "output_type": "display_data"
    }
   ],
   "source": [
    "# Success Rate (how many meter have this data in day per total active meter)\n",
    "ActiveMeterListWithForwardEnergyData, SuccessRateForwardEnergyData = getDataRate(ActiveMeterList,DailyCurrent,'Forward Energy')"
   ]
  },
  {
   "cell_type": "markdown",
   "metadata": {},
   "source": [
    "Check Unomal Data"
   ]
  },
  {
   "cell_type": "code",
   "execution_count": null,
   "metadata": {},
   "outputs": [],
   "source": []
  },
  {
   "cell_type": "markdown",
   "metadata": {},
   "source": [
    "## DAILY FORWARD ENERGY DATA"
   ]
  },
  {
   "cell_type": "markdown",
   "metadata": {},
   "source": [
    "Success Rate"
   ]
  },
  {
   "cell_type": "code",
   "execution_count": 679,
   "metadata": {},
   "outputs": [
    {
     "name": "stdout",
     "output_type": "stream",
     "text": [
      "\n",
      "- Total day collect Reverse Energy data:\n",
      " 141\n",
      "\n",
      "- Success rate of collect Reverse Energy data:\n",
      "             Day  Success_Rate\n",
      "0    2022-09-18         87.42\n",
      "1    2022-09-17         87.42\n",
      "2    2022-09-16         87.42\n",
      "3    2022-09-15         87.42\n",
      "4    2022-09-14         87.42\n",
      "..          ...           ...\n",
      "136  2022-05-05         87.42\n",
      "137  2022-05-04         87.42\n",
      "138  2022-05-03         87.42\n",
      "139  2022-05-02         87.42\n",
      "140  2022-05-01         87.42\n",
      "\n",
      "[141 rows x 2 columns]\n"
     ]
    },
    {
     "data": {
      "image/png": "[encoded data removed]",
      "text/plain": [
       "<Figure size 1296x648 with 1 Axes>"
      ]
     },
     "metadata": {},
     "output_type": "display_data"
    }
   ],
   "source": [
    "# Success Rate (how many meter have this data in day per total active meter)\n",
    "ActiveMeterListWithReverseEnergyData, SuccessRateReverseEnergyData = getDataRate(ActiveMeterList,DailyCurrent,'Reverse Energy')"
   ]
  },
  {
   "cell_type": "markdown",
   "metadata": {},
   "source": [
    "Check Unomal Data"
   ]
  },
  {
   "cell_type": "code",
   "execution_count": null,
   "metadata": {},
   "outputs": [],
   "source": []
  }
 ],
 "metadata": {
  "kernelspec": {
   "display_name": "Python 3.9.7 64-bit",
   "language": "python",
   "name": "python3"
  },
  "language_info": {
   "codemirror_mode": {
    "name": "ipython",
    "version": 3
   },
   "file_extension": ".py",
   "mimetype": "text/x-python",
   "name": "python",
   "nbconvert_exporter": "python",
   "pygments_lexer": "ipython3",
   "version": "3.9.7"
  },
  "orig_nbformat": 4,
  "vscode": {
   "interpreter": {
    "hash": "425fffdd81f4c8a8a93d502d98a00d3c91ddacf9eb641baeec30767a7bb560f4"
   }
  }
 },
 "nbformat": 4,
 "nbformat_minor": 2
}
