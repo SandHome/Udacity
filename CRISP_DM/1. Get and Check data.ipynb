{
 "cells": [
  {
   "cell_type": "markdown",
   "metadata": {},
   "source": [
    "# Section 1: Business Understanding\n",
    "    This is project about power usage data analysis. the data is real data of a Tranformer Area. The enegry data is measured by smart electronic meters (Meter). The data from meter is collected by a Terminal via PLC (Power Line Control Technology) one time per day include then report to server. It will be saved in the database in the database server:\n",
    "    - Voltage U(V),\n",
    "    - Current I(A),\n",
    "    - Forward Active Energy A+(KWh)\n",
    "    - Forward ReActive Energy R+(KWh)\n",
    "    - Reverse Active Energy A-(KWh)\n",
    "    - Reverse ReActive Energy R-(KWh)\n",
    "    With multi tariff meter it have more data of each tariff :\n",
    "    - Forward Active Energy tariff 1 A1+(KWh)\n",
    "    - Forward Active Energy tariff 2 A2+(KWh)\n",
    "    - Forward Active Energy tariff 3 A3+(KWh)\n",
    "    - Forward Active Energy tariff 4 A3+(KWh)\n",
    "    - Forward ReActive Energy tariff 1 R1+(Kvarh)\n",
    "    - Forward ReActive Energy tariff 2 R2+(Kvarh)\n",
    "    - Forward ReActive Energy tariff 3 R3+(Kvarh)\n",
    "    - Forward ReActive Energy tariff 4 R3+(Kvarh)\n",
    "    - Reverse Active Energy tariff 1 A1-(KWh)\n",
    "    - Reverse Active Energy tariff 2 A2-(KWh)\n",
    "    - Reverse Active Energy tariff 3 A3-(KWh)\n",
    "    - Reverse Active Energy tariff 4 A3-(KWh)\n",
    "    - Reverse ReActive Energy tariff 1 R1-(Kvarh)\n",
    "    - Reverse ReActive Energy tariff 2 R2-(Kvarh)\n",
    "    - Reverse ReActive Energy tariff 3 R3-(Kvarh)\n",
    "    - Reverse ReActive Energy tariff 4 R3-(Kvarh)\n",
    "    With this project we will know how about the Power data will be use in Power Company. It will clear how to analyze and evaluate the accuracy of data, detect electrical fraud, detect abnormal data if any... !"
   ]
  },
  {
   "cell_type": "markdown",
   "metadata": {},
   "source": [
    "- Question 1 : How many meter in Tranformer Area ? How many meter is running (Active Meter )? How many meter of each model ?\n",
    "- Question 2 : How about Success rate of each data that system can collect from meter as each day ? It need to show the chart to show the success rate of last 30 day ?\n",
    "- Question 3 : Which each type of daily data. What is unormal data and what meter have unormal data ? Show the unormal data value if have ?"
   ]
  },
  {
   "cell_type": "code",
   "execution_count": 30,
   "metadata": {},
   "outputs": [],
   "source": [
    "# import pandas lib as pd\n",
    "import pandas as pd\n",
    "import numpy as np\n",
    "import matplotlib.pyplot as plt\n",
    "pd.set_option('mode.chained_assignment', None)"
   ]
  },
  {
   "cell_type": "markdown",
   "metadata": {},
   "source": [
    "# Section 2: Data Understanding"
   ]
  },
  {
   "cell_type": "code",
   "execution_count": 31,
   "metadata": {},
   "outputs": [
    {
     "name": "stdout",
     "output_type": "stream",
     "text": [
      "\n",
      "- MeterList: print 02 top row ----------------\n",
      "   Meter_No   Status Meter_Model Customer_No         Customer_Name\n",
      "0  19205924  Running     MM11-V1     T04.001  Nguyễn Văn Trình MĐK\n",
      "1  19205923  Running     MM11-V1     T04.002     Nguyễn Văn Đệ MĐK\n",
      "\n",
      "- DailyForwardEnergy: print 02 top row ----------------\n",
      "   Meter_No            Data_Time  Active_energy_total  Active_energy_tariff1  \\\n",
      "0  19205403  2022-09-18 00:00:00              9772.50                    NaN   \n",
      "1  19205403  2022-09-17 00:00:00              9758.77                    NaN   \n",
      "\n",
      "   Active_energy_tariff2  Active_energy_tariff3  Active_energy_tariff4  \\\n",
      "0                    NaN                    NaN                    NaN   \n",
      "1                    NaN                    NaN                    NaN   \n",
      "\n",
      "   Reactive_energy_total  Reactive_energy_tariff1  Reactive_energy_tariff2  \\\n",
      "0                    NaN                      NaN                      NaN   \n",
      "1                    NaN                      NaN                      NaN   \n",
      "\n",
      "   Reactive_energy_tariff3  Reactive_energy_tariff4  \n",
      "0                      NaN                      NaN  \n",
      "1                      NaN                      NaN  \n",
      "\n",
      "- DailyReverseEnergy: print 02 top row ----------------\n",
      "   Meter_No            Data_Time  Active_energy_total  Active_energy_tariff1  \\\n",
      "0  19205403  2022-09-18 00:00:00                  0.0                    NaN   \n",
      "1  19205403  2022-09-17 00:00:00                  0.0                    NaN   \n",
      "\n",
      "   Active_energy_tariff2  Active_energy_tariff3  Active_energy_tariff4  \\\n",
      "0                    NaN                    NaN                    NaN   \n",
      "1                    NaN                    NaN                    NaN   \n",
      "\n",
      "   Reactive_energy_total  Reactive_energy_tariff1  Reactive_energy_tariff2  \\\n",
      "0                    NaN                      NaN                      NaN   \n",
      "1                    NaN                      NaN                      NaN   \n",
      "\n",
      "   Reactive_energy_tariff3  Reactive_energy_tariff4  \n",
      "0                      NaN                      NaN  \n",
      "1                      NaN                      NaN  \n",
      "\n",
      "- DailyVoltage: print 02 top row ----------------\n",
      "   Meter_No  Voltage_in_phase_L1  Voltage_in_phase_L2  Voltage_in_phase_L3  \\\n",
      "0  19205403                225.0                  NaN                  NaN   \n",
      "1  19205403                223.0                  NaN                  NaN   \n",
      "\n",
      "             Data_Time  \n",
      "0  2022-09-18 00:00:00  \n",
      "1  2022-09-17 00:00:00  \n",
      "\n",
      "- DailyCurrent: print 02 top row ----------------\n",
      "   Meter_No            Data_Time  Current_in_phase_L1  Current_in_phase_L2  \\\n",
      "0  19205403  2022-09-18 00:00:00                 4.88                  NaN   \n",
      "1  19205403  2022-09-17 00:00:00                 4.87                  NaN   \n",
      "\n",
      "   Current_in_phase_L3  \n",
      "0                  NaN  \n",
      "1                  NaN  \n"
     ]
    }
   ],
   "source": [
    "# Get Meter List and daily data \n",
    "MeterList = pd.read_excel('../Data/19193111_MeterList.xls')\n",
    "DailyForwardEnergy = pd.read_excel('../Data/19193111_Daily_Forward_Energy.xls')\n",
    "DailyReverseEnergy = pd.read_excel('../Data/19193111_Daily_Reverse_Energy.xls')\n",
    "DailyVoltage = pd.read_excel('../Data/19193111_Daily_Voltage.xls')\n",
    "DailyCurrent = pd.read_excel('../Data/19193111_Daily_Current.xls')\n",
    "\n",
    "# Meter List is infomation of all meter in Tranformer Area. \n",
    "# It use to know about infomation and para of meter\n",
    "# It include Meter No, status of meter to clear it is running or not (mean install on grid power or not), meter Model to clear meter type in this project we just focus about single phase meter and three phase meter. \n",
    "# Other information is Customer No and Customer Name.\n",
    "print('\\n- MeterList: print 02 top row ----------------')\n",
    "print(MeterList.head(2))\n",
    "\n",
    "# DailyForwardEnergy is Forward Energy value of meter that collect one time per day.\n",
    "# It use to know how much power that customer already used. \n",
    "# it include Meter No, time collect data and Energy value of total and each tariff\n",
    "print('\\n- DailyForwardEnergy: print 02 top row ----------------')\n",
    "print(DailyForwardEnergy.head(2))\n",
    "\n",
    "# DailyReverseEnergy is Reverse Energy value of meter that collect one time per day. \n",
    "# It use to know how much power that customer return to power (with customer user solar power) or meter install wrong. \n",
    "# It include Meter No, time collect data and Energy value of total and each tariff\n",
    "print('\\n- DailyReverseEnergy: print 02 top row ----------------')\n",
    "print(DailyReverseEnergy.head(2))\n",
    "\n",
    "# DailyVoltage is Voltage value of meter that collect one time per day. \n",
    "# It use to know how the voltage value that is one of operating parameters of the grid power. \n",
    "# It include Meter No, time collect data and voltage value of each phase\n",
    "print('\\n- DailyVoltage: print 02 top row ----------------')\n",
    "print(DailyVoltage.head(2))\n",
    "\n",
    "# DailyCurrent is Current value of meter that collect one time per day. \n",
    "# It use to know the Current value that is one of operating parameters of the grid power. \n",
    "# It include Meter No, time collect data and Current value of each phase\n",
    "print('\\n- DailyCurrent: print 02 top row ----------------')\n",
    "print(DailyCurrent.head(2))"
   ]
  },
  {
   "cell_type": "markdown",
   "metadata": {},
   "source": [
    "# Section 3: Data Preparation"
   ]
  },
  {
   "cell_type": "code",
   "execution_count": 32,
   "metadata": {},
   "outputs": [],
   "source": [
    "# Normal we just handel data with Meter that is runnign on grid power. So we must get Meter have Status is Running (ActiveMeter)\n",
    "ActiveMeterList = MeterList[(MeterList.Status == 'Running')]\n",
    "\n",
    "# Get Meter Model : MM11-V1 is single phase meter, MM31/38 is Three phase meter\n",
    "MeterModel = ActiveMeterList.Meter_Model.drop_duplicates()\n",
    "\n",
    "# Get Single Phase Meter. With single phase meter it just inlcude a phase so it just have voltage and current value of phase L1\n",
    "SinglePhaseMeterList = ActiveMeterList[(ActiveMeterList.Meter_Model == 'MM11-V1')]\n",
    "\n",
    "# Get Three Phase Meter. With three phase meter it inlcude three phase so it will have voltage and current value of phase L1, Phase L2 and Phase L3\n",
    "ThreePhaseMeterList = ActiveMeterList[(ActiveMeterList.Meter_Model == 'MM31/38')]"
   ]
  },
  {
   "cell_type": "code",
   "execution_count": 33,
   "metadata": {},
   "outputs": [],
   "source": [
    "# DEF function for Data Preparation\n",
    "def DataPreparation(ActiveMeterList,DailyData):\n",
    "    # Add column Flag Time By Day\n",
    "    DailyData['Flag_Time_By_Day'] = DailyData.Data_Time.str.slice(0, 10)\n",
    "\n",
    "    # Join Daily data with meter List by Meter_No\n",
    "    ActiveMeterListWithDailyData=ActiveMeterList.set_index('Meter_No').join(DailyData.set_index('Meter_No'))\n",
    "\n",
    "    # Get list Day had collected data from Active Meter List\n",
    "    DataByDay = DailyData.Flag_Time_By_Day.drop_duplicates()\n",
    "    \n",
    "    # Get Success rate of Data by Day\n",
    "    Output= pd.DataFrame()\n",
    "    Output['Day'] = DataByDay.copy()\n",
    "    Success_Rate=[]\n",
    "    for item in Output['Day']:\n",
    "        TempData = ActiveMeterListWithDailyData[ActiveMeterListWithDailyData.Flag_Time_By_Day==item]\n",
    "        Success_Rate.append(round(TempData.shape[0]*100/ActiveMeterList.shape[0],2))\n",
    "        \n",
    "    Output['Success_Rate'] = Success_Rate\n",
    "    \n",
    "    return ActiveMeterListWithDailyData, Output"
   ]
  },
  {
   "cell_type": "code",
   "execution_count": 34,
   "metadata": {},
   "outputs": [],
   "source": [
    "# Active Meter List With Voltage Data And Success Rate Data (how many meter have voltage data in day per total active meter)\n",
    "ActiveMeterListWithVoltageData, SuccessRateVoltageData = DataPreparation(ActiveMeterList,DailyVoltage)\n",
    "\n",
    "# Active Meter List With Current Data And Success Rate Data (how many meter have current data in day per total active meter)\n",
    "ActiveMeterListWithCurrentData, SuccessRateCurrentData = DataPreparation(ActiveMeterList,DailyCurrent)\n",
    "\n",
    "# Active Meter List With Forward Energy Data And Success Rate Data (how many meter have rorward energy data in day per total active meter)\n",
    "ActiveMeterListWithForwardEnergyData, SuccessRateForwardEnergyData = DataPreparation(ActiveMeterList,DailyForwardEnergy)\n",
    "\n",
    "# Active Meter List With Reverse Energy Data And Success Rate Data (how many meter have reverse energy data in day per total active meter)\n",
    "ActiveMeterListWithReverseEnergyData, SuccessRateReverseEnergyData = DataPreparation(ActiveMeterList,DailyReverseEnergy)"
   ]
  },
  {
   "cell_type": "markdown",
   "metadata": {},
   "source": [
    "# Section 4: Evaluate the Results\n"
   ]
  },
  {
   "cell_type": "markdown",
   "metadata": {},
   "source": [
    "## Question 1 : How many meter in Tranformer Area ? How many meter is running (Active Meter )? How many meter of each model ?"
   ]
  },
  {
   "cell_type": "code",
   "execution_count": 35,
   "metadata": {},
   "outputs": [
    {
     "name": "stdout",
     "output_type": "stream",
     "text": [
      "\n",
      "- Total Meter: 151\n",
      "\n",
      "- Total Active Meter : 151\n",
      "\n",
      "- Total Sing Meter : 143; Total Three Phase Meter : 8\n"
     ]
    }
   ],
   "source": [
    "# To check data. We must know how many active meter need to collect data\n",
    "# Get Total Meter\n",
    "TotalMeter = MeterList.shape[0]\n",
    "print('\\n- Total Meter: {total}'.format(total=TotalMeter))\n",
    "\n",
    "# Get Meter have status is Active\n",
    "TotalActiveMeter = ActiveMeterList.shape[0]\n",
    "print('\\n- Total Active Meter : {totalActive}'.format(totalActive=TotalActiveMeter))\n",
    "\n",
    "# Get Meter Model : MM11-V1 is single phase meter, MM31/38 is Three phase meter\n",
    "TotalSinglePhaseMeter = SinglePhaseMeterList.shape[0]\n",
    "TotalThreePhaseMeter = ThreePhaseMeterList.shape[0]\n",
    "print('\\n- Total Sing Meter : {first}; Total Three Phase Meter : {second}'.format(first=TotalSinglePhaseMeter,second=TotalThreePhaseMeter))\n"
   ]
  },
  {
   "cell_type": "markdown",
   "metadata": {},
   "source": [
    "## Question 2 : How about Success rate of each data that system can collect from meter as each day ? It need to show the chart to show the success rate of last 30 day ?"
   ]
  },
  {
   "cell_type": "code",
   "execution_count": 36,
   "metadata": {},
   "outputs": [],
   "source": [
    "# With daily data, we need to check the data collect from meter enough or not, check the data is normal or not. it is Success rate. DEF function for show Data Rate\n",
    "def ShowDataRate(SuccessRateData,DataName,NumberDays): \n",
    "    # Show Success rate of last        \n",
    "    print('\\n- Success rate of daily {first} data of lase {second}:\\n {third}'.format(first=DataName,second=NumberDays,third=SuccessRateData.head(NumberDays)))\n",
    "    \n",
    "    # Show Chart of Success_Rate by Day\n",
    "    # create data\n",
    "    SuccessRateData = SuccessRateData.sort_values(by=['Day'])\n",
    "    x=SuccessRateData['Day'].head(NumberDays)\n",
    "    y=SuccessRateData['Success_Rate'].head(NumberDays)\n",
    "\n",
    "    # Change the style of plot\n",
    "    plt.figure(figsize=(18, 9))\n",
    "    plt.xticks(rotation = 90)\n",
    "    plt.style.use('seaborn-darkgrid')\n",
    "    \n",
    "    # Make the same graph\n",
    "    plt.fill_between( x, y, color=\"skyblue\", alpha=0.3)\n",
    "    plt.plot(x, y, color=\"skyblue\")\n",
    "    \n",
    "    # Add title and axis names\n",
    "    plt.title('Success rate of collect {first} data last {second} days'.format(first=DataName,second=NumberDays))\n",
    "    plt.xlabel('Day')\n",
    "    plt.ylabel('Success rate (%)')\n",
    "    \n",
    "    # Show graph\n",
    "    plt.show()\n"
   ]
  },
  {
   "cell_type": "markdown",
   "metadata": {},
   "source": [
    "- DAILY VOLTAGE DATA"
   ]
  },
  {
   "cell_type": "code",
   "execution_count": 37,
   "metadata": {},
   "outputs": [
    {
     "name": "stdout",
     "output_type": "stream",
     "text": [
      "\n",
      "- Success rate of daily Voltage data of lase 30:\n",
      "            Day  Success_Rate\n",
      "0   2022-09-18         88.08\n",
      "1   2022-09-17         88.08\n",
      "2   2022-09-16         88.08\n",
      "3   2022-09-15         88.08\n",
      "4   2022-09-14         88.08\n",
      "5   2022-09-13         88.08\n",
      "6   2022-09-12         88.08\n",
      "7   2022-09-11         88.08\n",
      "8   2022-09-10         88.08\n",
      "9   2022-09-09         88.08\n",
      "10  2022-09-08         88.08\n",
      "11  2022-09-07         88.08\n",
      "12  2022-09-06         88.08\n",
      "13  2022-09-05         88.08\n",
      "14  2022-09-04         88.08\n",
      "15  2022-09-03         88.08\n",
      "16  2022-09-02         88.08\n",
      "17  2022-09-01         88.08\n",
      "18  2022-08-31         88.08\n",
      "19  2022-08-30         88.08\n",
      "20  2022-08-29         88.08\n",
      "21  2022-08-28         88.08\n",
      "22  2022-08-27         88.08\n",
      "23  2022-08-26         88.08\n",
      "24  2022-08-25         88.08\n",
      "25  2022-08-24         88.08\n",
      "26  2022-08-23         88.08\n",
      "27  2022-08-22         88.08\n",
      "28  2022-08-21         88.08\n",
      "29  2022-08-20         88.08\n"
     ]
    },
    {
     "data": {
      "image/png": "[encoded data removed]",
      "text/plain": [
       "<Figure size 1296x648 with 1 Axes>"
      ]
     },
     "metadata": {},
     "output_type": "display_data"
    }
   ],
   "source": [
    "ShowDataRate(SuccessRateVoltageData,'Voltage',30)"
   ]
  },
  {
   "cell_type": "markdown",
   "metadata": {},
   "source": [
    "- DAILY CURRENT DATA"
   ]
  },
  {
   "cell_type": "code",
   "execution_count": 38,
   "metadata": {},
   "outputs": [
    {
     "name": "stdout",
     "output_type": "stream",
     "text": [
      "\n",
      "- Success rate of daily Current data of lase 30:\n",
      "            Day  Success_Rate\n",
      "0   2022-09-18         87.42\n",
      "1   2022-09-17         87.42\n",
      "2   2022-09-16         87.42\n",
      "3   2022-09-15         87.42\n",
      "4   2022-09-14         87.42\n",
      "5   2022-09-13         87.42\n",
      "6   2022-09-12         87.42\n",
      "7   2022-09-11         87.42\n",
      "8   2022-09-10         87.42\n",
      "9   2022-09-09         87.42\n",
      "10  2022-09-08         87.42\n",
      "11  2022-09-07         87.42\n",
      "12  2022-09-06         87.42\n",
      "13  2022-09-05         87.42\n",
      "14  2022-09-04         87.42\n",
      "15  2022-09-03         87.42\n",
      "16  2022-09-02         87.42\n",
      "17  2022-09-01         87.42\n",
      "18  2022-08-31         87.42\n",
      "19  2022-08-30         87.42\n",
      "20  2022-08-29         87.42\n",
      "21  2022-08-28         87.42\n",
      "22  2022-08-27         87.42\n",
      "23  2022-08-26         87.42\n",
      "24  2022-08-25         87.42\n",
      "25  2022-08-24         87.42\n",
      "26  2022-08-23         87.42\n",
      "27  2022-08-22         87.42\n",
      "28  2022-08-21         87.42\n",
      "29  2022-08-20         87.42\n"
     ]
    },
    {
     "data": {
      "image/png": "[encoded data removed]",
      "text/plain": [
       "<Figure size 1296x648 with 1 Axes>"
      ]
     },
     "metadata": {},
     "output_type": "display_data"
    }
   ],
   "source": [
    "ShowDataRate(SuccessRateCurrentData,'Current',30)"
   ]
  },
  {
   "cell_type": "markdown",
   "metadata": {},
   "source": [
    "- DAILY FORWARD ENERGY DATA"
   ]
  },
  {
   "cell_type": "code",
   "execution_count": 39,
   "metadata": {},
   "outputs": [
    {
     "name": "stdout",
     "output_type": "stream",
     "text": [
      "\n",
      "- Success rate of daily Forward Energy data of lase 30:\n",
      "            Day  Success_Rate\n",
      "0   2022-09-18        100.00\n",
      "1   2022-09-17        100.00\n",
      "2   2022-09-16        100.00\n",
      "3   2022-09-15        100.00\n",
      "4   2022-09-14        100.00\n",
      "5   2022-09-13        100.00\n",
      "6   2022-09-12        100.00\n",
      "7   2022-09-11        100.00\n",
      "8   2022-09-10        100.00\n",
      "9   2022-09-09        100.00\n",
      "10  2022-09-08        100.00\n",
      "11  2022-09-07        100.00\n",
      "12  2022-09-06        100.00\n",
      "13  2022-09-05        100.00\n",
      "14  2022-09-04        100.00\n",
      "15  2022-09-03        100.00\n",
      "16  2022-09-02        100.00\n",
      "17  2022-09-01        100.00\n",
      "18  2022-08-31        100.00\n",
      "19  2022-08-30        100.00\n",
      "20  2022-08-29        100.00\n",
      "21  2022-08-28        100.00\n",
      "22  2022-08-27        100.00\n",
      "23  2022-08-26        100.00\n",
      "24  2022-08-25        100.00\n",
      "25  2022-08-24        100.00\n",
      "26  2022-08-23        100.00\n",
      "27  2022-08-22         99.34\n",
      "28  2022-08-21         99.34\n",
      "29  2022-08-20         99.34\n"
     ]
    },
    {
     "data": {
      "image/png": "[encoded data removed]",
      "text/plain": [
       "<Figure size 1296x648 with 1 Axes>"
      ]
     },
     "metadata": {},
     "output_type": "display_data"
    }
   ],
   "source": [
    "ShowDataRate(SuccessRateForwardEnergyData,'Forward Energy',30)"
   ]
  },
  {
   "cell_type": "markdown",
   "metadata": {},
   "source": [
    "- DAILY REVERSE ENERGY DATA"
   ]
  },
  {
   "cell_type": "code",
   "execution_count": 40,
   "metadata": {},
   "outputs": [
    {
     "name": "stdout",
     "output_type": "stream",
     "text": [
      "\n",
      "- Success rate of daily Reverse Energy data of lase 30:\n",
      "            Day  Success_Rate\n",
      "0   2022-09-18         92.72\n",
      "1   2022-09-17         92.72\n",
      "2   2022-09-16         92.72\n",
      "3   2022-09-15         92.72\n",
      "4   2022-09-14         92.72\n",
      "5   2022-09-13         92.72\n",
      "6   2022-09-12         92.72\n",
      "7   2022-09-11         92.72\n",
      "8   2022-09-10         92.72\n",
      "9   2022-09-09         92.72\n",
      "10  2022-09-08         92.72\n",
      "11  2022-09-07         92.72\n",
      "12  2022-09-06         92.72\n",
      "13  2022-09-05         92.72\n",
      "14  2022-09-04         92.72\n",
      "15  2022-09-03         92.72\n",
      "16  2022-09-02         92.72\n",
      "17  2022-09-01         92.72\n",
      "18  2022-08-31         92.72\n",
      "19  2022-08-30         92.72\n",
      "20  2022-08-29         92.72\n",
      "21  2022-08-28         92.72\n",
      "22  2022-08-27         92.72\n",
      "23  2022-08-26         92.72\n",
      "24  2022-08-25         92.72\n",
      "25  2022-08-24         92.72\n",
      "26  2022-08-23         92.72\n",
      "27  2022-08-22         92.72\n",
      "28  2022-08-21         92.72\n",
      "29  2022-08-20         92.72\n"
     ]
    },
    {
     "data": {
      "image/png": "[encoded data removed]",
      "text/plain": [
       "<Figure size 1296x648 with 1 Axes>"
      ]
     },
     "metadata": {},
     "output_type": "display_data"
    }
   ],
   "source": [
    "ShowDataRate(SuccessRateReverseEnergyData,'Reverse Energy',30)"
   ]
  },
  {
   "cell_type": "markdown",
   "metadata": {},
   "source": [
    "## Question 3 : Which each type of daily data. What is unormal data and what meter have unormal data ? Show the unormal data value if have ?"
   ]
  },
  {
   "cell_type": "markdown",
   "metadata": {},
   "source": [
    "- DAILY VOLTAGE DATA"
   ]
  },
  {
   "cell_type": "code",
   "execution_count": 41,
   "metadata": {},
   "outputs": [
    {
     "name": "stdout",
     "output_type": "stream",
     "text": [
      "\n",
      "- Unormal Voltage Data :\n",
      "+ Total: 3 \n",
      "+ Detail:\n",
      "           Status Meter_Model Customer_No           Customer_Name  \\\n",
      "Meter_No                                                            \n",
      "19205403  Running     MM11-V1     T04.144           Đỗ Quốc Triệu   \n",
      "19205409  Running     MM11-V1     T04.134              Đỗ Sào Nam   \n",
      "19362985  Running     MM31/38     T04.014  Quách Thị Hằng 2 3FMĐK   \n",
      "\n",
      "          Voltage_in_phase_L1  Voltage_in_phase_L2  Voltage_in_phase_L3  \\\n",
      "Meter_No                                                                  \n",
      "19205403                170.0                  NaN                  NaN   \n",
      "19205409                272.0                  NaN                  NaN   \n",
      "19362985                170.0                170.0                170.0   \n",
      "\n",
      "                    Data_Time Flag_Time_By_Day  \n",
      "Meter_No                                        \n",
      "19205403  2022-09-07 00:00:00       2022-09-07  \n",
      "19205409  2022-08-19 00:00:00       2022-08-19  \n",
      "19362985  2022-09-07 00:00:00       2022-09-07  \n",
      "\n",
      "- Unormal Voltage Data Three Phase Meter :\n",
      "+ Total: 4 \n",
      "+ Detail:\n",
      "           Status Meter_Model Customer_No           Customer_Name  \\\n",
      "Meter_No                                                            \n",
      "19362985  Running     MM31/38     T04.014  Quách Thị Hằng 2 3FMĐK   \n",
      "19362985  Running     MM31/38     T04.014  Quách Thị Hằng 2 3FMĐK   \n",
      "19362985  Running     MM31/38     T04.014  Quách Thị Hằng 2 3FMĐK   \n",
      "19362985  Running     MM31/38     T04.014  Quách Thị Hằng 2 3FMĐK   \n",
      "\n",
      "          Voltage_in_phase_L1  Voltage_in_phase_L2  Voltage_in_phase_L3  \\\n",
      "Meter_No                                                                  \n",
      "19362985                226.0                  NaN                226.0   \n",
      "19362985                222.0                222.0                  NaN   \n",
      "19362985                198.0                  NaN                  NaN   \n",
      "19362985                  NaN                  NaN                197.0   \n",
      "\n",
      "                    Data_Time Flag_Time_By_Day  CheckPhase1  CheckPhase2  \\\n",
      "Meter_No                                                                   \n",
      "19362985  2022-09-12 00:00:00       2022-09-12        False         True   \n",
      "19362985  2022-09-02 00:00:00       2022-09-02        False        False   \n",
      "19362985  2022-08-25 00:00:00       2022-08-25        False         True   \n",
      "19362985  2022-08-20 00:00:00       2022-08-20         True         True   \n",
      "\n",
      "          CheckPhase3  \n",
      "Meter_No               \n",
      "19362985        False  \n",
      "19362985         True  \n",
      "19362985         True  \n",
      "19362985        False  \n"
     ]
    }
   ],
   "source": [
    "# Voltage at Viet Nam normal from 176 V to 264 V. Check unormal data\n",
    "max = 264\n",
    "min = 176\n",
    "UnormalVoltageData = ActiveMeterListWithVoltageData[((ActiveMeterListWithVoltageData.Voltage_in_phase_L1>max)|\n",
    "                                                    (ActiveMeterListWithVoltageData.Voltage_in_phase_L1<min))|\n",
    "                                                     ((ActiveMeterListWithVoltageData.Voltage_in_phase_L2>max)|\n",
    "                                                    (ActiveMeterListWithVoltageData.Voltage_in_phase_L2<min))|\n",
    "                                                     ((ActiveMeterListWithVoltageData.Voltage_in_phase_L3>max)|\n",
    "                                                    (ActiveMeterListWithVoltageData.Voltage_in_phase_L3<min))]\n",
    "\n",
    "TotalUnormalVoltageData = UnormalVoltageData.shape[0]\n",
    "print('\\n- Unormal Voltage Data :\\n+ Total: {first} \\n+ Detail:\\n{second}'.format(first=TotalUnormalVoltageData,second=UnormalVoltageData))\n",
    "\n",
    "# Three Phase meter normal must have voltage value of all Phase. Check unormal data. Just check with meter can collect data\n",
    "\n",
    "VoltageDataThreePhaseMeter = ActiveMeterListWithVoltageData[ActiveMeterListWithVoltageData.Meter_Model=='MM31/38']\n",
    "if VoltageDataThreePhaseMeter.shape[0]>0:\n",
    "    VoltageDataThreePhaseMeter['CheckPhase1'] = VoltageDataThreePhaseMeter['Voltage_in_phase_L1'].isnull()\n",
    "    VoltageDataThreePhaseMeter['CheckPhase2'] = VoltageDataThreePhaseMeter['Voltage_in_phase_L2'].isnull()\n",
    "    VoltageDataThreePhaseMeter['CheckPhase3'] = VoltageDataThreePhaseMeter['Voltage_in_phase_L3'].isnull()\n",
    "\n",
    "    UnormalVoltageDataThreePhaseMeter = VoltageDataThreePhaseMeter[((VoltageDataThreePhaseMeter.CheckPhase1==True)|\n",
    "                                                                        (VoltageDataThreePhaseMeter.CheckPhase2==True)|\n",
    "                                                                        (VoltageDataThreePhaseMeter.CheckPhase3==True))&\n",
    "                                                                        ((VoltageDataThreePhaseMeter.CheckPhase1==False)|\n",
    "                                                                        (VoltageDataThreePhaseMeter.CheckPhase2==False)|\n",
    "                                                                        (VoltageDataThreePhaseMeter.CheckPhase3==False))]\n",
    "\n",
    "    TotalUnormalVoltageDataThreePhaseMeter = UnormalVoltageDataThreePhaseMeter.shape[0]\n",
    "    print('\\n- Unormal Voltage Data Three Phase Meter :\\n+ Total: {first} \\n+ Detail:\\n{second}'.format(first=TotalUnormalVoltageDataThreePhaseMeter,second=UnormalVoltageDataThreePhaseMeter))\n",
    "else:\n",
    "    print('\\n- Do not have Current Data of Three Phase Meter')  "
   ]
  },
  {
   "cell_type": "markdown",
   "metadata": {},
   "source": [
    "- DAILY CURRENT DATA"
   ]
  },
  {
   "cell_type": "code",
   "execution_count": 42,
   "metadata": {},
   "outputs": [
    {
     "name": "stdout",
     "output_type": "stream",
     "text": [
      "\n",
      "- Unormal Current Data Single Phase Meter :\n",
      "+ Total: 0 \n",
      "+ Detail:\n",
      "Empty DataFrame\n",
      "Columns: [Status, Meter_Model, Customer_No, Customer_Name, Data_Time, Current_in_phase_L1, Current_in_phase_L2, Current_in_phase_L3, Flag_Time_By_Day]\n",
      "Index: []\n",
      "\n",
      "- Unormal Current Data Three Phase Meter :\n",
      "+ Total: 0 \n",
      "+ Detail:\n",
      "Empty DataFrame\n",
      "Columns: [Status, Meter_Model, Customer_No, Customer_Name, Data_Time, Current_in_phase_L1, Current_in_phase_L2, Current_in_phase_L3, Flag_Time_By_Day]\n",
      "Index: []\n"
     ]
    }
   ],
   "source": [
    "# Current range of single phase meter is 0 - 80A (Imax = 80A), Three phase meter is 0 - 100A (Imax = 100A). Meter can run normal if Current value < 120% Imax. Check Meter have unomal Current\n",
    "ImaxSinglePhaseMeter = 80\n",
    "ImaxThreePhaseMeter = 100\n",
    "\n",
    "# Check Current range of single phase meter\n",
    "CurrentDataSinglePhaseMeter = ActiveMeterListWithCurrentData[ActiveMeterListWithCurrentData.Meter_Model=='MM11-V1']\n",
    "\n",
    "if CurrentDataSinglePhaseMeter.shape[0]>0:\n",
    "    UnormalCurrentDataSinglePhaseMeter = CurrentDataSinglePhaseMeter[CurrentDataSinglePhaseMeter.Current_in_phase_L1>ImaxSinglePhaseMeter]\n",
    "\n",
    "    TotalUnormalCurrentDataSinglePhaseMeter = UnormalCurrentDataSinglePhaseMeter.shape[0]\n",
    "    print('\\n- Unormal Current Data Single Phase Meter :\\n+ Total: {first} \\n+ Detail:\\n{second}'.format(first=TotalUnormalCurrentDataSinglePhaseMeter,second=UnormalCurrentDataSinglePhaseMeter))\n",
    "else:\n",
    "    print('\\n- Do not have Current Data of Single Phase Meter')    \n",
    "# Check Current range of single phase meter\n",
    "\n",
    "CurrentDataThreePhaseMeter = ActiveMeterListWithCurrentData[ActiveMeterListWithCurrentData.Meter_Model=='MM31/38']\n",
    "if CurrentDataThreePhaseMeter.shape[0]>0:\n",
    "    UnormalCurrentDataThreePhaseMeter = CurrentDataThreePhaseMeter[(CurrentDataThreePhaseMeter.Current_in_phase_L1>ImaxThreePhaseMeter)|\n",
    "                                                                (CurrentDataThreePhaseMeter.Current_in_phase_L2>ImaxThreePhaseMeter)|\n",
    "                                                                (CurrentDataThreePhaseMeter.Current_in_phase_L3>ImaxThreePhaseMeter)]\n",
    "\n",
    "    TotalUnormalCurrentDataThreePhaseMeter = UnormalCurrentDataThreePhaseMeter.shape[0]\n",
    "    print('\\n- Unormal Current Data Three Phase Meter :\\n+ Total: {first} \\n+ Detail:\\n{second}'.format(first=TotalUnormalCurrentDataThreePhaseMeter,second=UnormalCurrentDataThreePhaseMeter))\n",
    "else:\n",
    "    print('\\n- Do not have Current Data of Three Phase Meter')    "
   ]
  },
  {
   "cell_type": "markdown",
   "metadata": {},
   "source": [
    "- DAILY FORWARD ENERGY DATA"
   ]
  },
  {
   "cell_type": "code",
   "execution_count": 43,
   "metadata": {},
   "outputs": [
    {
     "name": "stdout",
     "output_type": "stream",
     "text": [
      "\n",
      "- Unormal Enegery (Enegry value <0) :\n",
      "+ Total: 0 \n",
      "+ Detail:\n",
      "Empty DataFrame\n",
      "Columns: [Status, Meter_Model, Customer_No, Customer_Name, Data_Time, Active_energy_total, Active_energy_tariff1, Active_energy_tariff2, Active_energy_tariff3, Active_energy_tariff4, Reactive_energy_total, Reactive_energy_tariff1, Reactive_energy_tariff2, Reactive_energy_tariff3, Reactive_energy_tariff4, Flag_Time_By_Day]\n",
      "Index: []\n",
      "\n",
      "- With multi tariff meter, Unormal Enegery (TotalEnegry not same with (EnegryTariff1 + EnegryTariff2 + EnegryTariff3 + EnegryTariff4)) :\n",
      "+ Total: 0 \n",
      "+ Detail:\n",
      "Empty DataFrame\n",
      "Columns: [Status, Meter_Model, Customer_No, Customer_Name, Data_Time, Active_energy_total, Active_energy_tariff1, Active_energy_tariff2, Active_energy_tariff3, Active_energy_tariff4, Reactive_energy_total, Reactive_energy_tariff1, Reactive_energy_tariff2, Reactive_energy_tariff3, Reactive_energy_tariff4, Flag_Time_By_Day]\n",
      "Index: []\n"
     ]
    }
   ],
   "source": [
    "# Normal Data of Enegry is the value >=0. Check that\n",
    "UnormalEnegryDataCheckValue = ActiveMeterListWithForwardEnergyData[(ActiveMeterListWithForwardEnergyData.Active_energy_total < 0) |\n",
    "                                 (ActiveMeterListWithForwardEnergyData.Active_energy_tariff1 < 0) | \n",
    "                                 (ActiveMeterListWithForwardEnergyData.Active_energy_tariff2 < 0) | \n",
    "                                 (ActiveMeterListWithForwardEnergyData.Active_energy_tariff3 < 0) | \n",
    "                                 (ActiveMeterListWithForwardEnergyData.Active_energy_tariff4 < 0) |\n",
    "                                 (ActiveMeterListWithForwardEnergyData.Reactive_energy_total < 0) |\n",
    "                                 (ActiveMeterListWithForwardEnergyData.Reactive_energy_tariff1 < 0) | \n",
    "                                 (ActiveMeterListWithForwardEnergyData.Reactive_energy_tariff2 < 0) | \n",
    "                                 (ActiveMeterListWithForwardEnergyData.Reactive_energy_tariff3 < 0) | \n",
    "                                 (ActiveMeterListWithForwardEnergyData.Reactive_energy_tariff4 < 0)]\n",
    "\n",
    "TotalUnormalEnegryDataCheckValue = UnormalEnegryDataCheckValue.shape[0]\n",
    "print('\\n- Unormal Enegery (Enegry value <0) :\\n+ Total: {first} \\n+ Detail:\\n{second}'.format(first=TotalUnormalEnegryDataCheckValue,second=UnormalEnegryDataCheckValue))\n",
    "\n",
    "\n",
    "# With multi tariff meter TotalEnegry = (99% - 101%) of (EnegryTariff1 + EnegryTariff2 + EnegryTariff3 + EnegryTariff4). Check that\n",
    "minvalue = 0.99\n",
    "maxvalue = 1.01\n",
    "UnormalEnegryDataCheckTotalAndTariffValue = ActiveMeterListWithForwardEnergyData[((ActiveMeterListWithForwardEnergyData.Active_energy_total < (ActiveMeterListWithForwardEnergyData.Active_energy_tariff1 + ActiveMeterListWithForwardEnergyData.Active_energy_tariff2 + ActiveMeterListWithForwardEnergyData.Active_energy_tariff3 + ActiveMeterListWithForwardEnergyData.Active_energy_tariff4)*minvalue)|\n",
    "                                               (ActiveMeterListWithForwardEnergyData.Active_energy_total > (ActiveMeterListWithForwardEnergyData.Active_energy_tariff1 + ActiveMeterListWithForwardEnergyData.Active_energy_tariff2 + ActiveMeterListWithForwardEnergyData.Active_energy_tariff3 + ActiveMeterListWithForwardEnergyData.Active_energy_tariff4)*maxvalue))|\n",
    "                                               ((ActiveMeterListWithForwardEnergyData.Reactive_energy_total < (ActiveMeterListWithForwardEnergyData.Reactive_energy_tariff1 + ActiveMeterListWithForwardEnergyData.Reactive_energy_tariff2 + ActiveMeterListWithForwardEnergyData.Reactive_energy_tariff3 + ActiveMeterListWithForwardEnergyData.Reactive_energy_tariff4)*minvalue)|\n",
    "                                               (ActiveMeterListWithForwardEnergyData.Reactive_energy_total > (ActiveMeterListWithForwardEnergyData.Reactive_energy_tariff1 + ActiveMeterListWithForwardEnergyData.Reactive_energy_tariff2 + ActiveMeterListWithForwardEnergyData.Reactive_energy_tariff3 + ActiveMeterListWithForwardEnergyData.Reactive_energy_tariff4)*maxvalue))]\n",
    "\n",
    "TotalUnormalEnegryDataCheckTotalAndTariffValue = UnormalEnegryDataCheckTotalAndTariffValue.shape[0]\n",
    "print('\\n- With multi tariff meter, Unormal Enegery (TotalEnegry not same with (EnegryTariff1 + EnegryTariff2 + EnegryTariff3 + EnegryTariff4)) :\\n+ Total: {first} \\n+ Detail:\\n{second}'.format(first=TotalUnormalEnegryDataCheckTotalAndTariffValue,second=UnormalEnegryDataCheckTotalAndTariffValue))"
   ]
  },
  {
   "cell_type": "markdown",
   "metadata": {},
   "source": [
    "- DAILY REVERSE ENERGY DATA"
   ]
  },
  {
   "cell_type": "code",
   "execution_count": 44,
   "metadata": {},
   "outputs": [
    {
     "name": "stdout",
     "output_type": "stream",
     "text": [
      "\n",
      "- Unormal Enegery (Enegry value <0) :\n",
      "+ Total: 0 \n",
      "+ Detail:\n",
      "Empty DataFrame\n",
      "Columns: [Status, Meter_Model, Customer_No, Customer_Name, Data_Time, Active_energy_total, Active_energy_tariff1, Active_energy_tariff2, Active_energy_tariff3, Active_energy_tariff4, Reactive_energy_total, Reactive_energy_tariff1, Reactive_energy_tariff2, Reactive_energy_tariff3, Reactive_energy_tariff4, Flag_Time_By_Day]\n",
      "Index: []\n",
      "\n",
      "- With multi tariff meter, Unormal Enegery (TotalEnegry not same with (EnegryTariff1 + EnegryTariff2 + EnegryTariff3 + EnegryTariff4)) :\n",
      "+ Total: 0 \n",
      "+ Detail:\n",
      "Empty DataFrame\n",
      "Columns: [Status, Meter_Model, Customer_No, Customer_Name, Data_Time, Active_energy_total, Active_energy_tariff1, Active_energy_tariff2, Active_energy_tariff3, Active_energy_tariff4, Reactive_energy_total, Reactive_energy_tariff1, Reactive_energy_tariff2, Reactive_energy_tariff3, Reactive_energy_tariff4, Flag_Time_By_Day]\n",
      "Index: []\n"
     ]
    }
   ],
   "source": [
    "# Normal Data of Enegry is the value >=0. Check that\n",
    "UnormalEnegryDataCheckValue = ActiveMeterListWithReverseEnergyData[(ActiveMeterListWithReverseEnergyData.Active_energy_total < 0) |\n",
    "                                 (ActiveMeterListWithReverseEnergyData.Active_energy_tariff1 < 0) | \n",
    "                                 (ActiveMeterListWithReverseEnergyData.Active_energy_tariff2 < 0) | \n",
    "                                 (ActiveMeterListWithReverseEnergyData.Active_energy_tariff3 < 0) | \n",
    "                                 (ActiveMeterListWithReverseEnergyData.Active_energy_tariff4 < 0) |\n",
    "                                 (ActiveMeterListWithReverseEnergyData.Reactive_energy_total < 0) |\n",
    "                                 (ActiveMeterListWithReverseEnergyData.Reactive_energy_tariff1 < 0) | \n",
    "                                 (ActiveMeterListWithReverseEnergyData.Reactive_energy_tariff2 < 0) | \n",
    "                                 (ActiveMeterListWithReverseEnergyData.Reactive_energy_tariff3 < 0) | \n",
    "                                 (ActiveMeterListWithReverseEnergyData.Reactive_energy_tariff4 < 0)]\n",
    "\n",
    "TotalUnormalEnegryDataCheckValue = UnormalEnegryDataCheckValue.shape[0]\n",
    "print('\\n- Unormal Enegery (Enegry value <0) :\\n+ Total: {first} \\n+ Detail:\\n{second}'.format(first=TotalUnormalEnegryDataCheckValue,second=UnormalEnegryDataCheckValue))\n",
    "\n",
    "\n",
    "# With multi tariff meter TotalEnegry = (99% - 101%) of (EnegryTariff1 + EnegryTariff2 + EnegryTariff3 + EnegryTariff4). Check that\n",
    "minvalue = 0.99\n",
    "maxvalue = 1.01\n",
    "UnormalEnegryDataCheckTotalAndTariffValue = ActiveMeterListWithReverseEnergyData[((ActiveMeterListWithReverseEnergyData.Active_energy_total < (ActiveMeterListWithReverseEnergyData.Active_energy_tariff1 + ActiveMeterListWithReverseEnergyData.Active_energy_tariff2 + ActiveMeterListWithReverseEnergyData.Active_energy_tariff3 + ActiveMeterListWithReverseEnergyData.Active_energy_tariff4)*minvalue)|\n",
    "                                               (ActiveMeterListWithReverseEnergyData.Active_energy_total > (ActiveMeterListWithReverseEnergyData.Active_energy_tariff1 + ActiveMeterListWithReverseEnergyData.Active_energy_tariff2 + ActiveMeterListWithReverseEnergyData.Active_energy_tariff3 + ActiveMeterListWithReverseEnergyData.Active_energy_tariff4)*maxvalue))|\n",
    "                                               ((ActiveMeterListWithReverseEnergyData.Reactive_energy_total < (ActiveMeterListWithReverseEnergyData.Reactive_energy_tariff1 + ActiveMeterListWithReverseEnergyData.Reactive_energy_tariff2 + ActiveMeterListWithReverseEnergyData.Reactive_energy_tariff3 + ActiveMeterListWithReverseEnergyData.Reactive_energy_tariff4)*minvalue)|\n",
    "                                               (ActiveMeterListWithReverseEnergyData.Reactive_energy_total > (ActiveMeterListWithReverseEnergyData.Reactive_energy_tariff1 + ActiveMeterListWithReverseEnergyData.Reactive_energy_tariff2 + ActiveMeterListWithReverseEnergyData.Reactive_energy_tariff3 + ActiveMeterListWithReverseEnergyData.Reactive_energy_tariff4)*maxvalue))]\n",
    "\n",
    "TotalUnormalEnegryDataCheckTotalAndTariffValue = UnormalEnegryDataCheckTotalAndTariffValue.shape[0]\n",
    "print('\\n- With multi tariff meter, Unormal Enegery (TotalEnegry not same with (EnegryTariff1 + EnegryTariff2 + EnegryTariff3 + EnegryTariff4)) :\\n+ Total: {first} \\n+ Detail:\\n{second}'.format(first=TotalUnormalEnegryDataCheckTotalAndTariffValue,second=UnormalEnegryDataCheckTotalAndTariffValue))\n"
   ]
  }
 ],
 "metadata": {
  "kernelspec": {
   "display_name": "Python 3.9.7 64-bit",
   "language": "python",
   "name": "python3"
  },
  "language_info": {
   "codemirror_mode": {
    "name": "ipython",
    "version": 3
   },
   "file_extension": ".py",
   "mimetype": "text/x-python",
   "name": "python",
   "nbconvert_exporter": "python",
   "pygments_lexer": "ipython3",
   "version": "3.9.7"
  },
  "orig_nbformat": 4,
  "vscode": {
   "interpreter": {
    "hash": "425fffdd81f4c8a8a93d502d98a00d3c91ddacf9eb641baeec30767a7bb560f4"
   }
  }
 },
 "nbformat": 4,
 "nbformat_minor": 2
}
